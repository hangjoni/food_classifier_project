{
 "cells": [
  {
   "cell_type": "code",
   "execution_count": 4,
   "id": "7a35a94f-8570-469e-ab08-0ea0564c2af1",
   "metadata": {},
   "outputs": [],
   "source": [
    "import fastbook\n",
    "fastbook.setup_book()\n",
    "from fastbook import *"
   ]
  },
  {
   "cell_type": "code",
   "execution_count": 6,
   "id": "4f07edc5-8a0a-4f05-9a4d-856eb0815f69",
   "metadata": {},
   "outputs": [
    {
     "name": "stdout",
     "output_type": "stream",
     "text": [
      "/notebooks\n"
     ]
    }
   ],
   "source": [
    "current = Path('/notebooks')"
   ]
  },
  {
   "cell_type": "code",
   "execution_count": 24,
   "id": "e287762d-a2a5-49bc-a643-aba5156bc05e",
   "metadata": {},
   "outputs": [
    {
     "data": {
      "text/html": [
       "\n",
       "<style>\n",
       "    /* Turns off some styling */\n",
       "    progress {\n",
       "        /* gets rid of default border in Firefox and Opera. */\n",
       "        border: none;\n",
       "        /* Needs to be in here for Safari polyfill so background images work as expected. */\n",
       "        background-size: auto;\n",
       "    }\n",
       "    progress:not([value]), progress:not([value])::-webkit-progress-bar {\n",
       "        background: repeating-linear-gradient(45deg, #7e7e7e, #7e7e7e 10px, #5c5c5c 10px, #5c5c5c 20px);\n",
       "    }\n",
       "    .progress-bar-interrupted, .progress-bar-interrupted::-webkit-progress-bar {\n",
       "        background: #F44336;\n",
       "    }\n",
       "</style>\n"
      ],
      "text/plain": [
       "<IPython.core.display.HTML object>"
      ]
     },
     "metadata": {},
     "output_type": "display_data"
    },
    {
     "data": {
      "text/html": [
       "\n",
       "    <div>\n",
       "      <progress value='4996284416' class='' max='4996278331' style='width:300px; height:20px; vertical-align: middle;'></progress>\n",
       "      100.00% [4996284416/4996278331 58:11&lt;00:00]\n",
       "    </div>\n",
       "    "
      ],
      "text/plain": [
       "<IPython.core.display.HTML object>"
      ]
     },
     "metadata": {},
     "output_type": "display_data"
    }
   ],
   "source": [
    "test = untar_data('http://data.vision.ee.ethz.ch/cvl/food-101.tar.gz', data = current)"
   ]
  },
  {
   "cell_type": "code",
   "execution_count": 25,
   "id": "58e54eda-7a8e-470d-b91e-88e5ea4b513a",
   "metadata": {},
   "outputs": [
    {
     "data": {
      "text/plain": [
       "Path('/notebooks/food-101')"
      ]
     },
     "execution_count": 25,
     "metadata": {},
     "output_type": "execute_result"
    }
   ],
   "source": [
    "test"
   ]
  },
  {
   "cell_type": "markdown",
   "id": "d200a67a-c76a-4dca-8c30-62debcfc9534",
   "metadata": {},
   "source": [
    "# Food10"
   ]
  },
  {
   "cell_type": "markdown",
   "id": "fcdcc6c2-ed09-4093-a725-014bffe08025",
   "metadata": {},
   "source": [
    "Create a subset dataset for fast iteration"
   ]
  },
  {
   "cell_type": "code",
   "execution_count": null,
   "id": "ab2db3ee-1f92-4611-aa28-36d8745d4b0e",
   "metadata": {},
   "outputs": [],
   "source": [
    "food101"
   ]
  }
 ],
 "metadata": {
  "kernelspec": {
   "display_name": "myenv",
   "language": "python",
   "name": "myenv"
  },
  "language_info": {
   "codemirror_mode": {
    "name": "ipython",
    "version": 3
   },
   "file_extension": ".py",
   "mimetype": "text/x-python",
   "name": "python",
   "nbconvert_exporter": "python",
   "pygments_lexer": "ipython3",
   "version": "3.9.13"
  }
 },
 "nbformat": 4,
 "nbformat_minor": 5
}
